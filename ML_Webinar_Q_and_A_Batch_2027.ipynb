{
  "nbformat": 4,
  "nbformat_minor": 0,
  "metadata": {
    "colab": {
      "name": "ML Webinar Q and A Batch 2027.ipynb",
      "provenance": []
    },
    "kernelspec": {
      "name": "python3",
      "display_name": "Python 3"
    }
  },
  "cells": [
    {
      "cell_type": "markdown",
      "metadata": {
        "id": "5pu6sswPdc44",
        "colab_type": "text"
      },
      "source": [
        "# 1. What is the difference between iloc and reshape. Explain with one example"
      ]
    },
    {
      "cell_type": "code",
      "metadata": {
        "id": "i56Gq4mrdo3G",
        "colab_type": "code",
        "outputId": "15af2be5-6197-435d-c461-faac65a40f45",
        "colab": {
          "base_uri": "https://localhost:8080/",
          "height": 50
        }
      },
      "source": [
        "import numpy as np\n",
        "import pandas as pd\n",
        "ip = np.arange(1,7,1)\n",
        "op = np.array([10,12,14,16,18,20])\n",
        "print(ip.ndim,op.ndim)\n",
        "print(ip,op)"
      ],
      "execution_count": 5,
      "outputs": [
        {
          "output_type": "stream",
          "text": [
            "1 1\n",
            "[1 2 3 4 5 6] [10 12 14 16 18 20]\n"
          ],
          "name": "stdout"
        }
      ]
    },
    {
      "cell_type": "code",
      "metadata": {
        "id": "hkwUCN_F1Xf0",
        "colab_type": "code",
        "outputId": "e78f8f52-2ed8-4067-f9f9-ecffb184b898",
        "colab": {
          "base_uri": "https://localhost:8080/",
          "height": 227
        }
      },
      "source": [
        "d = {'x':ip,'y':op}\n",
        "df = pd.DataFrame(d)\n",
        "df\n"
      ],
      "execution_count": 2,
      "outputs": [
        {
          "output_type": "execute_result",
          "data": {
            "text/html": [
              "<div>\n",
              "<style scoped>\n",
              "    .dataframe tbody tr th:only-of-type {\n",
              "        vertical-align: middle;\n",
              "    }\n",
              "\n",
              "    .dataframe tbody tr th {\n",
              "        vertical-align: top;\n",
              "    }\n",
              "\n",
              "    .dataframe thead th {\n",
              "        text-align: right;\n",
              "    }\n",
              "</style>\n",
              "<table border=\"1\" class=\"dataframe\">\n",
              "  <thead>\n",
              "    <tr style=\"text-align: right;\">\n",
              "      <th></th>\n",
              "      <th>x</th>\n",
              "      <th>y</th>\n",
              "    </tr>\n",
              "  </thead>\n",
              "  <tbody>\n",
              "    <tr>\n",
              "      <th>0</th>\n",
              "      <td>1</td>\n",
              "      <td>10</td>\n",
              "    </tr>\n",
              "    <tr>\n",
              "      <th>1</th>\n",
              "      <td>2</td>\n",
              "      <td>12</td>\n",
              "    </tr>\n",
              "    <tr>\n",
              "      <th>2</th>\n",
              "      <td>3</td>\n",
              "      <td>14</td>\n",
              "    </tr>\n",
              "    <tr>\n",
              "      <th>3</th>\n",
              "      <td>4</td>\n",
              "      <td>16</td>\n",
              "    </tr>\n",
              "    <tr>\n",
              "      <th>4</th>\n",
              "      <td>5</td>\n",
              "      <td>18</td>\n",
              "    </tr>\n",
              "    <tr>\n",
              "      <th>5</th>\n",
              "      <td>6</td>\n",
              "      <td>20</td>\n",
              "    </tr>\n",
              "  </tbody>\n",
              "</table>\n",
              "</div>"
            ],
            "text/plain": [
              "   x   y\n",
              "0  1  10\n",
              "1  2  12\n",
              "2  3  14\n",
              "3  4  16\n",
              "4  5  18\n",
              "5  6  20"
            ]
          },
          "metadata": {
            "tags": []
          },
          "execution_count": 2
        }
      ]
    },
    {
      "cell_type": "code",
      "metadata": {
        "id": "SJvs1ACa1oC9",
        "colab_type": "code",
        "outputId": "4256598b-d137-440e-8ff2-c832cb2255ac",
        "colab": {
          "base_uri": "https://localhost:8080/",
          "height": 133
        }
      },
      "source": [
        "x = df.iloc[:,[0]].values\n",
        "print(x.ndim)\n",
        "print(x)"
      ],
      "execution_count": 4,
      "outputs": [
        {
          "output_type": "stream",
          "text": [
            "2\n",
            "[[1]\n",
            " [2]\n",
            " [3]\n",
            " [4]\n",
            " [5]\n",
            " [6]]\n"
          ],
          "name": "stdout"
        }
      ]
    },
    {
      "cell_type": "code",
      "metadata": {
        "id": "QAe71DbkLY0n",
        "colab_type": "code",
        "colab": {
          "base_uri": "https://localhost:8080/",
          "height": 50
        },
        "outputId": "c38ddced-b3a4-4ceb-e99d-d9003cd6a1b9"
      },
      "source": [
        "print(ip.ndim)\n",
        "print(ip.shape)"
      ],
      "execution_count": 6,
      "outputs": [
        {
          "output_type": "stream",
          "text": [
            "1\n",
            "(6,)\n"
          ],
          "name": "stdout"
        }
      ]
    },
    {
      "cell_type": "code",
      "metadata": {
        "id": "lkpJJ4kz1vix",
        "colab_type": "code",
        "outputId": "bf56a253-9d08-4812-8d84-02c4c25a65f0",
        "colab": {
          "base_uri": "https://localhost:8080/",
          "height": 150
        }
      },
      "source": [
        "x = ip.reshape(-1,1)\n",
        "print(x.ndim)\n",
        "print(x.shape)\n",
        "x.ndim\n",
        "print(x)"
      ],
      "execution_count": 13,
      "outputs": [
        {
          "output_type": "stream",
          "text": [
            "2\n",
            "(6, 1)\n",
            "[[1]\n",
            " [2]\n",
            " [3]\n",
            " [4]\n",
            " [5]\n",
            " [6]]\n"
          ],
          "name": "stdout"
        }
      ]
    },
    {
      "cell_type": "markdown",
      "metadata": {
        "id": "JQuAbO6EeBLx",
        "colab_type": "text"
      },
      "source": [
        "# 2. Difference between ide and *compiler*"
      ]
    },
    {
      "cell_type": "markdown",
      "metadata": {
        "id": "i5gj72kVeFzh",
        "colab_type": "text"
      },
      "source": [
        "# 3. How numbers are immutable?\n",
        "\n",
        "\n",
        "Simple put, a mutable object can be changed after it is created, and an immutable object can't. Objects of built-in types like (int, float, bool, str, tuple, unicode) are immutable. Objects of built-in types like (list, set, dict) are mutable. Custom classes are generally mutable."
      ]
    },
    {
      "cell_type": "markdown",
      "metadata": {
        "id": "aTnFapbWee2g",
        "colab_type": "text"
      },
      "source": [
        "# 4.Where is Boolean Data type used?"
      ]
    },
    {
      "cell_type": "markdown",
      "metadata": {
        "id": "9F14f4Q9er8x",
        "colab_type": "text"
      },
      "source": [
        "# 5. How is list different from variable in terms of allocation of memory\n",
        "\n",
        "---\n",
        "\n",
        "\n",
        "\n"
      ]
    },
    {
      "cell_type": "code",
      "metadata": {
        "id": "qVZxew-heX8e",
        "colab_type": "code",
        "outputId": "6d9cdaa8-2dbd-4467-c91e-d81005af03c9",
        "colab": {
          "base_uri": "https://localhost:8080/",
          "height": 54
        }
      },
      "source": [
        "#Taking a variable and assigning that variables value to another variable\n",
        "a =10 \n",
        "b =a\n",
        "print(id(a))\n",
        "print(id(b))"
      ],
      "execution_count": 0,
      "outputs": [
        {
          "output_type": "stream",
          "text": [
            "10914784\n",
            "10914784\n"
          ],
          "name": "stdout"
        }
      ]
    },
    {
      "cell_type": "code",
      "metadata": {
        "id": "LRNME2Bwe8IG",
        "colab_type": "code",
        "outputId": "5e9e35f6-f67c-4d5d-87b7-416f09355e7e",
        "colab": {
          "base_uri": "https://localhost:8080/",
          "height": 72
        }
      },
      "source": [
        "#When the value of 2nd variable is assigned to a value check whether the first varible value changes or not\n",
        "b = 0\n",
        "print(a) # It changes and so does the id value\n",
        "print(id(a))\n",
        "print(id(b))"
      ],
      "execution_count": 0,
      "outputs": [
        {
          "output_type": "stream",
          "text": [
            "10\n",
            "10914784\n",
            "10914464\n"
          ],
          "name": "stdout"
        }
      ]
    },
    {
      "cell_type": "code",
      "metadata": {
        "id": "5YWKPtaQfHk4",
        "colab_type": "code",
        "outputId": "27697a5d-31de-4813-9c51-23b75003be67",
        "colab": {
          "base_uri": "https://localhost:8080/",
          "height": 54
        }
      },
      "source": [
        "list1 = [1,2,3,4]\n",
        "list2 = list1\n",
        "print(id(list1))\n",
        "print(id(list2))"
      ],
      "execution_count": 0,
      "outputs": [
        {
          "output_type": "stream",
          "text": [
            "139772602184776\n",
            "139772602184776\n"
          ],
          "name": "stdout"
        }
      ]
    },
    {
      "cell_type": "code",
      "metadata": {
        "id": "Vgx4SAHIflKW",
        "colab_type": "code",
        "outputId": "e26d67ed-a02c-48c7-be3d-3a68a67c70ad",
        "colab": {
          "base_uri": "https://localhost:8080/",
          "height": 72
        }
      },
      "source": [
        "list2[1] = 0\n",
        "print(list1)\n",
        "print(id(list1))\n",
        "print(id(list2))\n",
        "# The value of id doesnt change"
      ],
      "execution_count": 0,
      "outputs": [
        {
          "output_type": "stream",
          "text": [
            "[1, 0, 3, 4]\n",
            "139772602184776\n",
            "139772602184776\n"
          ],
          "name": "stdout"
        }
      ]
    },
    {
      "cell_type": "markdown",
      "metadata": {
        "id": "VUa1Wfg1ic7X",
        "colab_type": "text"
      },
      "source": [
        "With list2 = list1, you don't actually have two lists. The assignment just copies the reference to the list, not the actual list, so both list1 and list2 refer to the same list after the assignment.\n",
        "\n",
        "Reference : https://stackoverflow.com/questions/2612802/how-to-clone-or-copy-a-list"
      ]
    },
    {
      "cell_type": "markdown",
      "metadata": {
        "id": "le4L_1-yjHrn",
        "colab_type": "text"
      },
      "source": [
        "# 6. How to use for loop for other conditions.\n",
        "Ex: How to write a code for displaying numbers from 10 to 0 using for loop"
      ]
    },
    {
      "cell_type": "code",
      "metadata": {
        "id": "UOyGO_Sohsmq",
        "colab_type": "code",
        "outputId": "9b02d7b7-38f0-47d0-f101-2e0d8075c530",
        "colab": {
          "base_uri": "https://localhost:8080/",
          "height": 199
        }
      },
      "source": [
        "for i in range(10,0,-1):\n",
        "  print(i)"
      ],
      "execution_count": 0,
      "outputs": [
        {
          "output_type": "stream",
          "text": [
            "10\n",
            "9\n",
            "8\n",
            "7\n",
            "6\n",
            "5\n",
            "4\n",
            "3\n",
            "2\n",
            "1\n"
          ],
          "name": "stdout"
        }
      ]
    },
    {
      "cell_type": "markdown",
      "metadata": {
        "id": "jkya0ZrzjXxP",
        "colab_type": "text"
      },
      "source": [
        "# 7. How to change upper to lowercase?"
      ]
    },
    {
      "cell_type": "code",
      "metadata": {
        "id": "vjJupKmcjA4R",
        "colab_type": "code",
        "outputId": "393b4e00-ef44-4b9a-865e-ee1f9e1e4e7c",
        "colab": {
          "base_uri": "https://localhost:8080/",
          "height": 35
        }
      },
      "source": [
        "a = 'Ameer'\n",
        "a.upper()"
      ],
      "execution_count": 0,
      "outputs": [
        {
          "output_type": "execute_result",
          "data": {
            "text/plain": [
              "'AMEER'"
            ]
          },
          "metadata": {
            "tags": []
          },
          "execution_count": 23
        }
      ]
    },
    {
      "cell_type": "code",
      "metadata": {
        "id": "ChwY6qzHk9LE",
        "colab_type": "code",
        "outputId": "19ccce8e-35ab-4e48-c483-632064d0f4c6",
        "colab": {
          "base_uri": "https://localhost:8080/",
          "height": 172
        }
      },
      "source": [
        "li."
      ],
      "execution_count": 0,
      "outputs": [
        {
          "output_type": "error",
          "ename": "AttributeError",
          "evalue": "ignored",
          "traceback": [
            "\u001b[0;31m---------------------------------------------------------------------------\u001b[0m",
            "\u001b[0;31mAttributeError\u001b[0m                            Traceback (most recent call last)",
            "\u001b[0;32m<ipython-input-22-8372d0831587>\u001b[0m in \u001b[0;36m<module>\u001b[0;34m()\u001b[0m\n\u001b[0;32m----> 1\u001b[0;31m \u001b[0mli\u001b[0m\u001b[0;34m.\u001b[0m\u001b[0mdtype\u001b[0m\u001b[0;34m\u001b[0m\u001b[0;34m\u001b[0m\u001b[0m\n\u001b[0m",
            "\u001b[0;31mAttributeError\u001b[0m: 'list' object has no attribute 'dtype'"
          ]
        }
      ]
    },
    {
      "cell_type": "code",
      "metadata": {
        "id": "NBiKwW7SlCFj",
        "colab_type": "code",
        "colab": {}
      },
      "source": [
        ""
      ],
      "execution_count": 0,
      "outputs": []
    }
  ]
}